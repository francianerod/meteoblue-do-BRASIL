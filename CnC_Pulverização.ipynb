{
  "nbformat": 4,
  "nbformat_minor": 0,
  "metadata": {
    "colab": {
      "provenance": [],
      "authorship_tag": "ABX9TyPJ3LDE18hh4KY5ZJ5/vT62",
      "include_colab_link": true
    },
    "kernelspec": {
      "name": "python3",
      "display_name": "Python 3"
    },
    "language_info": {
      "name": "python"
    }
  },
  "cells": [
    {
      "cell_type": "markdown",
      "metadata": {
        "id": "view-in-github",
        "colab_type": "text"
      },
      "source": [
        "<a href=\"https://colab.research.google.com/github/francianerod/meteoblue-do-BRASIL/blob/main/CnC_Pulveriza%C3%A7%C3%A3o.ipynb\" target=\"_parent\"><img src=\"https://colab.research.google.com/assets/colab-badge.svg\" alt=\"Open In Colab\"/></a>"
      ]
    },
    {
      "cell_type": "markdown",
      "source": [
        "**Código feito por:** Franciane Rodrigues\n",
        "\n",
        "**Empresa:** meteoblue do Brasil\n",
        "\n",
        "**Área/Setor:** Pesquisa e Desenvolvimento\n",
        "\n",
        "**Motivo do código:** Modelagem para Pulverização\n",
        "\n",
        "**Teoria**: Condicionais de pulverização meteoblue\n",
        "\n",
        "**Referência:**\n",
        "1. meteoblue. meteoblue AGRO Meteogram (2010). Disponível em: https://content.meteoblue.com/pt/private-customers/website-help/agricultura/meteograma-agro/meteogramAGRO_pt.pdf. Acesso em: 30 jan.2023\n",
        "\n",
        "2. +Soja. Quais as condições ideais para aplicação de defensivos agrícolas. Disponível em: https://maissoja.com.br/quais-as-condicoes-ideais-para-aplicacao-de-defensivos-agricolas/. Acesso em: 31 jan. 2023."
      ],
      "metadata": {
        "id": "1p1IM5i3r5gh"
      }
    },
    {
      "cell_type": "markdown",
      "source": [
        "## **OBSERVAÇÕES TÉCNICAS**\n",
        "\n",
        "1. Vento deve estar em km/h\n",
        "2. Granularidade horária\n",
        "3. Alerta diário: janela horária mais adequada."
      ],
      "metadata": {
        "id": "nV5wmYTarxty"
      }
    },
    {
      "cell_type": "markdown",
      "source": [
        "### **BASE DE DADOS**"
      ],
      "metadata": {
        "id": "WNv4iDr_HsER"
      }
    },
    {
      "cell_type": "code",
      "source": [
        "# Passo 1: Abrir as bibliotecas\n",
        "# Importação de biblioteca\n",
        "import pandas as pd"
      ],
      "metadata": {
        "id": "Mrh8iJxKudAt"
      },
      "execution_count": null,
      "outputs": []
    },
    {
      "cell_type": "code",
      "source": [
        "# Passo 2: Entrada de dados\n",
        "# Dados ficticios de teste\n",
        "\n",
        "temp = [4.9, 5., 5.1, 29.9, 30., 30.1, 30.1]\n",
        "\n",
        "umidade = [59., 60., 85., 95., 97., 99., 80.]\n",
        "\n",
        "precip = [7., 0.1, 0., 0.2, 0.9, 12., 0.0]\n",
        "\n",
        "vento = [14., 3.2, 6.5, 5.0, 20.5, 3.2, 15.]\n",
        "\n",
        "# Obtenha a lista de tuplas de quatro listas e mescle-as usando zip().\n",
        "lista_de_tuplas = list(zip(temp, umidade, precip, vento))\n",
        "\n",
        "# converte uma lista de tuplas num DataFrame\n",
        "df = pd.DataFrame(lista_de_tuplas, columns=['temp', 'umidade', 'precip', 'vento'])\n",
        "\n",
        "# Mostre as cinco primeiras posições\n",
        "df"
      ],
      "metadata": {
        "id": "ddVdcHuJ1lR4",
        "colab": {
          "base_uri": "https://localhost:8080/",
          "height": 269
        },
        "outputId": "f33c0cff-034a-4628-b033-bb7f5d6331de"
      },
      "execution_count": null,
      "outputs": [
        {
          "output_type": "execute_result",
          "data": {
            "text/plain": [
              "   temp  umidade  precip  vento\n",
              "0   4.9     59.0     7.0   14.0\n",
              "1   5.0     60.0     0.1    3.2\n",
              "2   5.1     85.0     0.0    6.5\n",
              "3  29.9     95.0     0.2    5.0\n",
              "4  30.0     97.0     0.9   20.5\n",
              "5  30.1     99.0    12.0    3.2\n",
              "6  30.1     80.0     0.0   15.0"
            ],
            "text/html": [
              "\n",
              "  <div id=\"df-29d786c8-80b0-412b-8f24-4dc89ad753de\">\n",
              "    <div class=\"colab-df-container\">\n",
              "      <div>\n",
              "<style scoped>\n",
              "    .dataframe tbody tr th:only-of-type {\n",
              "        vertical-align: middle;\n",
              "    }\n",
              "\n",
              "    .dataframe tbody tr th {\n",
              "        vertical-align: top;\n",
              "    }\n",
              "\n",
              "    .dataframe thead th {\n",
              "        text-align: right;\n",
              "    }\n",
              "</style>\n",
              "<table border=\"1\" class=\"dataframe\">\n",
              "  <thead>\n",
              "    <tr style=\"text-align: right;\">\n",
              "      <th></th>\n",
              "      <th>temp</th>\n",
              "      <th>umidade</th>\n",
              "      <th>precip</th>\n",
              "      <th>vento</th>\n",
              "    </tr>\n",
              "  </thead>\n",
              "  <tbody>\n",
              "    <tr>\n",
              "      <th>0</th>\n",
              "      <td>4.9</td>\n",
              "      <td>59.0</td>\n",
              "      <td>7.0</td>\n",
              "      <td>14.0</td>\n",
              "    </tr>\n",
              "    <tr>\n",
              "      <th>1</th>\n",
              "      <td>5.0</td>\n",
              "      <td>60.0</td>\n",
              "      <td>0.1</td>\n",
              "      <td>3.2</td>\n",
              "    </tr>\n",
              "    <tr>\n",
              "      <th>2</th>\n",
              "      <td>5.1</td>\n",
              "      <td>85.0</td>\n",
              "      <td>0.0</td>\n",
              "      <td>6.5</td>\n",
              "    </tr>\n",
              "    <tr>\n",
              "      <th>3</th>\n",
              "      <td>29.9</td>\n",
              "      <td>95.0</td>\n",
              "      <td>0.2</td>\n",
              "      <td>5.0</td>\n",
              "    </tr>\n",
              "    <tr>\n",
              "      <th>4</th>\n",
              "      <td>30.0</td>\n",
              "      <td>97.0</td>\n",
              "      <td>0.9</td>\n",
              "      <td>20.5</td>\n",
              "    </tr>\n",
              "    <tr>\n",
              "      <th>5</th>\n",
              "      <td>30.1</td>\n",
              "      <td>99.0</td>\n",
              "      <td>12.0</td>\n",
              "      <td>3.2</td>\n",
              "    </tr>\n",
              "    <tr>\n",
              "      <th>6</th>\n",
              "      <td>30.1</td>\n",
              "      <td>80.0</td>\n",
              "      <td>0.0</td>\n",
              "      <td>15.0</td>\n",
              "    </tr>\n",
              "  </tbody>\n",
              "</table>\n",
              "</div>\n",
              "      <button class=\"colab-df-convert\" onclick=\"convertToInteractive('df-29d786c8-80b0-412b-8f24-4dc89ad753de')\"\n",
              "              title=\"Convert this dataframe to an interactive table.\"\n",
              "              style=\"display:none;\">\n",
              "        \n",
              "  <svg xmlns=\"http://www.w3.org/2000/svg\" height=\"24px\"viewBox=\"0 0 24 24\"\n",
              "       width=\"24px\">\n",
              "    <path d=\"M0 0h24v24H0V0z\" fill=\"none\"/>\n",
              "    <path d=\"M18.56 5.44l.94 2.06.94-2.06 2.06-.94-2.06-.94-.94-2.06-.94 2.06-2.06.94zm-11 1L8.5 8.5l.94-2.06 2.06-.94-2.06-.94L8.5 2.5l-.94 2.06-2.06.94zm10 10l.94 2.06.94-2.06 2.06-.94-2.06-.94-.94-2.06-.94 2.06-2.06.94z\"/><path d=\"M17.41 7.96l-1.37-1.37c-.4-.4-.92-.59-1.43-.59-.52 0-1.04.2-1.43.59L10.3 9.45l-7.72 7.72c-.78.78-.78 2.05 0 2.83L4 21.41c.39.39.9.59 1.41.59.51 0 1.02-.2 1.41-.59l7.78-7.78 2.81-2.81c.8-.78.8-2.07 0-2.86zM5.41 20L4 18.59l7.72-7.72 1.47 1.35L5.41 20z\"/>\n",
              "  </svg>\n",
              "      </button>\n",
              "      \n",
              "  <style>\n",
              "    .colab-df-container {\n",
              "      display:flex;\n",
              "      flex-wrap:wrap;\n",
              "      gap: 12px;\n",
              "    }\n",
              "\n",
              "    .colab-df-convert {\n",
              "      background-color: #E8F0FE;\n",
              "      border: none;\n",
              "      border-radius: 50%;\n",
              "      cursor: pointer;\n",
              "      display: none;\n",
              "      fill: #1967D2;\n",
              "      height: 32px;\n",
              "      padding: 0 0 0 0;\n",
              "      width: 32px;\n",
              "    }\n",
              "\n",
              "    .colab-df-convert:hover {\n",
              "      background-color: #E2EBFA;\n",
              "      box-shadow: 0px 1px 2px rgba(60, 64, 67, 0.3), 0px 1px 3px 1px rgba(60, 64, 67, 0.15);\n",
              "      fill: #174EA6;\n",
              "    }\n",
              "\n",
              "    [theme=dark] .colab-df-convert {\n",
              "      background-color: #3B4455;\n",
              "      fill: #D2E3FC;\n",
              "    }\n",
              "\n",
              "    [theme=dark] .colab-df-convert:hover {\n",
              "      background-color: #434B5C;\n",
              "      box-shadow: 0px 1px 3px 1px rgba(0, 0, 0, 0.15);\n",
              "      filter: drop-shadow(0px 1px 2px rgba(0, 0, 0, 0.3));\n",
              "      fill: #FFFFFF;\n",
              "    }\n",
              "  </style>\n",
              "\n",
              "      <script>\n",
              "        const buttonEl =\n",
              "          document.querySelector('#df-29d786c8-80b0-412b-8f24-4dc89ad753de button.colab-df-convert');\n",
              "        buttonEl.style.display =\n",
              "          google.colab.kernel.accessAllowed ? 'block' : 'none';\n",
              "\n",
              "        async function convertToInteractive(key) {\n",
              "          const element = document.querySelector('#df-29d786c8-80b0-412b-8f24-4dc89ad753de');\n",
              "          const dataTable =\n",
              "            await google.colab.kernel.invokeFunction('convertToInteractive',\n",
              "                                                     [key], {});\n",
              "          if (!dataTable) return;\n",
              "\n",
              "          const docLinkHtml = 'Like what you see? Visit the ' +\n",
              "            '<a target=\"_blank\" href=https://colab.research.google.com/notebooks/data_table.ipynb>data table notebook</a>'\n",
              "            + ' to learn more about interactive tables.';\n",
              "          element.innerHTML = '';\n",
              "          dataTable['output_type'] = 'display_data';\n",
              "          await google.colab.output.renderOutput(dataTable, element);\n",
              "          const docLink = document.createElement('div');\n",
              "          docLink.innerHTML = docLinkHtml;\n",
              "          element.appendChild(docLink);\n",
              "        }\n",
              "      </script>\n",
              "    </div>\n",
              "  </div>\n",
              "  "
            ]
          },
          "metadata": {},
          "execution_count": 2
        }
      ]
    },
    {
      "cell_type": "markdown",
      "source": [
        "### **PULVERIZAÇÃO: RECOMENDADA OU MENOS RECOMENDADA**"
      ],
      "metadata": {
        "id": "4tSjuA7UHw5h"
      }
    },
    {
      "cell_type": "code",
      "source": [
        "# Código de pulverização simples - avaliação de hora em hora\n",
        "\n",
        "def pulverizar(column):\n",
        "    temp = column[\"temp\"]\n",
        "    umidade = column[\"umidade\"]\n",
        "    precip = column[\"precip\"]\n",
        "    vento = column['vento']\n",
        "\n",
        "    adequado = (temp >= 5.0 and temp <= 30) and (umidade >= 60 and umidade <= 95) and (precip <= 0.1) and (vento >= 3.2 and vento <= 6.5)\n",
        "\n",
        "    return \"Adequado para pulverização\" if adequado else \"Menos adequado para pulverização\""
      ],
      "metadata": {
        "id": "-Jbl8N2kU-Cf"
      },
      "execution_count": null,
      "outputs": []
    },
    {
      "cell_type": "code",
      "source": [
        "#Aplicando a função em uma nova coluna\n",
        "df['risco'] = df.apply(pulverizar, axis=1)\n",
        "print(df)"
      ],
      "metadata": {
        "colab": {
          "base_uri": "https://localhost:8080/"
        },
        "id": "iwCJib91SZaJ",
        "outputId": "9dd0274f-43f5-4c5e-a5af-a55cd98562f3"
      },
      "execution_count": null,
      "outputs": [
        {
          "output_type": "stream",
          "name": "stdout",
          "text": [
            "   temp  umidade  precip  vento                             risco\n",
            "0   4.9     59.0     7.0   14.0  Menos adequado para pulverização\n",
            "1   5.0     60.0     0.1    3.2        Adequado para pulverização\n",
            "2   5.1     85.0     0.0    6.5        Adequado para pulverização\n",
            "3  29.9     95.0     0.2    5.0  Menos adequado para pulverização\n",
            "4  30.0     97.0     0.9   20.5  Menos adequado para pulverização\n",
            "5  30.1     99.0    12.0    3.2  Menos adequado para pulverização\n",
            "6  30.1     80.0     0.0   15.0  Menos adequado para pulverização\n"
          ]
        }
      ]
    },
    {
      "cell_type": "markdown",
      "source": [
        "### **PULVERIZAÇÃO: testes com 3 classificações**"
      ],
      "metadata": {
        "id": "O0wAiDu07rAo"
      }
    },
    {
      "cell_type": "code",
      "source": [
        "def pulverizar(column):\n",
        "\n",
        "    temp = column[\"temp\"]\n",
        "    umidade = column[\"umidade\"]\n",
        "    precip = column[\"precip\"]\n",
        "    vento = column['vento']\n",
        "\n",
        "    adequado = (temp >= 5.0 and temp <= 30) and (umidade >= 60 and umidade <= 95) and (precip <= 0.1) and (vento >= 3.2 and vento <= 6.5)\n",
        "    inadequado = (temp <= 0.0 or temp >= 35) and (umidade <= 30 or umidade >= 99) and (precip >= 0.3) and (vento <= 3.2 or vento >= 6.5)\n",
        "\n",
        "    if adequado:\n",
        "        return \"Adequado para pulverização\"\n",
        "    elif inadequado:\n",
        "       return \"Inadequado para pulverização\"\n",
        "    else:\n",
        "        return \"Atenção: Menos adequado para pulverização\""
      ],
      "metadata": {
        "id": "Qzt-FItW7tg3"
      },
      "execution_count": null,
      "outputs": []
    },
    {
      "cell_type": "code",
      "source": [
        "#Aplicando a função em uma nova coluna\n",
        "df['risco'] = df.apply(pulverizar, axis=1)\n",
        "print(df)"
      ],
      "metadata": {
        "colab": {
          "base_uri": "https://localhost:8080/"
        },
        "id": "jc6E9MKQ9OtM",
        "outputId": "76f168f3-7b19-4008-ae11-0dfa109af57c"
      },
      "execution_count": null,
      "outputs": [
        {
          "output_type": "stream",
          "name": "stdout",
          "text": [
            "   temp  umidade  precip  vento                                      risco\n",
            "0   4.9     59.0     7.0   14.0  Atenção: Menos adequado para pulverização\n",
            "1   5.0     60.0     0.1    3.2                 Adequado para pulverização\n",
            "2   5.1     85.0     0.0    6.5                 Adequado para pulverização\n",
            "3  29.9     95.0     0.2    5.0  Atenção: Menos adequado para pulverização\n",
            "4  30.0     97.0     0.9   20.5  Atenção: Menos adequado para pulverização\n",
            "5  30.1     99.0    12.0    3.2  Atenção: Menos adequado para pulverização\n",
            "6  30.1     80.0     0.0   15.0  Atenção: Menos adequado para pulverização\n"
          ]
        }
      ]
    },
    {
      "cell_type": "code",
      "source": [
        "def pulverizar(column):\n",
        "\n",
        "    temp = column[\"temp\"]\n",
        "    umidade = column[\"umidade\"]\n",
        "    precip = column[\"precip\"]\n",
        "    vento = column['vento']\n",
        "\n",
        "    if (temp >= 5.0 and temp <= 30) and (umidade >= 60 and umidade <= 95) and (precip <= 0.1) and (vento >= 3.2 and vento <= 6.5):\n",
        "        return \"Adequado para pulverização\"\n",
        "\n",
        "    elif (temp <= 0.0 or temp >= 35) and (umidade <= 30 or umidade >= 99) and (precip >= 0.3) and (vento <= 3.2 or vento >= 6.5):\n",
        "        return \"Inadequado para pulverização\"\n",
        "\n",
        "    else:\n",
        "        return \"Atenção: Menos adequado para pulverização\""
      ],
      "metadata": {
        "id": "SSF4FvjQGudO"
      },
      "execution_count": null,
      "outputs": []
    },
    {
      "cell_type": "code",
      "source": [
        "#Aplicando a função em uma nova coluna\n",
        "df['risco'] = df.apply(pulverizar, axis=1)\n",
        "print(df)"
      ],
      "metadata": {
        "colab": {
          "base_uri": "https://localhost:8080/"
        },
        "id": "y1XVMEw5HDB0",
        "outputId": "0dd9cef5-1de0-47cb-f526-2d80bedd5dd2"
      },
      "execution_count": null,
      "outputs": [
        {
          "output_type": "stream",
          "name": "stdout",
          "text": [
            "   temp  umidade  precip  vento                                      risco\n",
            "0   4.9     59.0     7.0   14.0  Atenção: Menos adequado para pulverização\n",
            "1   5.0     60.0     0.1    3.2                 Adequado para pulverização\n",
            "2   5.1     85.0     0.0    6.5                 Adequado para pulverização\n",
            "3  29.9     95.0     0.2    5.0  Atenção: Menos adequado para pulverização\n",
            "4  30.0     97.0     0.9   20.5  Atenção: Menos adequado para pulverização\n",
            "5  30.1     99.0    12.0    3.2  Atenção: Menos adequado para pulverização\n",
            "6  30.1     80.0     0.0   15.0  Atenção: Menos adequado para pulverização\n"
          ]
        }
      ]
    },
    {
      "cell_type": "code",
      "source": [
        "# teste\n",
        "temp = float(input(\"Informe a temperatura: \"))\n",
        "umidade = float(input(\"Informe a umidade: \"))\n",
        "precip = float(input(\"Informe a precipitação: \"))\n",
        "vento = float(input(\"Informe a velocidade do vento: \"))\n",
        "\n",
        "adequado = (temp >= 5.0 and temp <= 30) and (umidade >= 60 and umidade <= 95) and (precip <= 0.1) and (vento >= 3.2 and vento <= 6.5)\n",
        "inadequado = (temp <= 0.0 or temp >= 35) and (umidade <= 30 or umidade >= 99) and (precip >= 0.3) and (vento <= 3.2 or vento >= 6.5)\n",
        "\n",
        "if adequado:\n",
        "    print(\"Condições adequadas\")\n",
        "elif inadequado:\n",
        "    print(\"Condições inadequadas\")\n",
        "else:\n",
        "    print(\"Atenção\")"
      ],
      "metadata": {
        "colab": {
          "base_uri": "https://localhost:8080/"
        },
        "id": "I-O3XYtzK5K0",
        "outputId": "f4851d0a-b01b-4efe-bf18-b461a10bcf1a"
      },
      "execution_count": null,
      "outputs": [
        {
          "output_type": "stream",
          "name": "stdout",
          "text": [
            "Informe a temperatura: 4.9\n",
            "Informe a umidade: 59\n",
            "Informe a precipitação: 7\n",
            "Informe a velocidade do vento: 14\n",
            "Atenção\n"
          ]
        }
      ]
    }
  ]
}